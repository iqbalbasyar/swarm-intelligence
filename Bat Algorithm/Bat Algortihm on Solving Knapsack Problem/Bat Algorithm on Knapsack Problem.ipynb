{
 "cells": [
  {
   "cell_type": "code",
   "execution_count": 4,
   "metadata": {},
   "outputs": [],
   "source": [
    "import numpy as np"
   ]
  },
  {
   "cell_type": "markdown",
   "metadata": {},
   "source": [
    "# Data Preparation"
   ]
  },
  {
   "cell_type": "code",
   "execution_count": 5,
   "metadata": {},
   "outputs": [],
   "source": [
    "import data_module as dm\n",
    "DLS_X, DLS_Y, DLS_W, DLD_X, DLD_Y, DLD_W = dm.import_data()\n",
    "#DLS = data large scale, contains thousands of datapoints\n",
    "#DLD = data low dimension, contains less than or hundreds of datapoints"
   ]
  },
  {
   "cell_type": "code",
   "execution_count": 6,
   "metadata": {},
   "outputs": [],
   "source": [
    "#select DLD first, as we gonna try to build up the model (faster execution)\n",
    "data_w = DLD_W[0] #maximum weight\n",
    "data_x = DLD_X[0] #datapoints\n",
    "data_y = DLD_Y[0] #optimum values"
   ]
  },
  {
   "cell_type": "markdown",
   "metadata": {},
   "source": [
    "# Solution Representation\n",
    "The solution is represented as boolean mask of $N$ size, where $N$ is the size of data. 1 or True means the consecutive data is selected / carried away. 0 or False menas the consecutive data is not selected/carried away"
   ]
  },
  {
   "cell_type": "code",
   "execution_count": 7,
   "metadata": {},
   "outputs": [
    {
     "data": {
      "text/plain": [
       "array([0.26883136, 0.58847016, 0.33888147, 0.60731337, 0.86338164,\n",
       "       0.93504649, 0.74749793, 0.72260778, 0.7234924 , 0.28433166,\n",
       "       0.5799968 , 0.96382489, 0.52424693, 0.27918827, 0.25235398,\n",
       "       0.09644272, 0.00990284, 0.4418656 , 0.31693068, 0.5861497 ])"
      ]
     },
     "execution_count": 7,
     "metadata": {},
     "output_type": "execute_result"
    }
   ],
   "source": [
    "sol = np.random.random(len(data_x))\n",
    "sol"
   ]
  },
  {
   "cell_type": "code",
   "execution_count": 8,
   "metadata": {},
   "outputs": [
    {
     "data": {
      "text/plain": [
       "array([0., 1., 0., 1., 1., 1., 1., 1., 1., 0., 1., 1., 1., 0., 0., 0., 0.,\n",
       "       0., 0., 1.])"
      ]
     },
     "execution_count": 8,
     "metadata": {},
     "output_type": "execute_result"
    }
   ],
   "source": [
    "#after discretizatoin\n",
    "np.round(sol)"
   ]
  },
  {
   "cell_type": "code",
   "execution_count": 9,
   "metadata": {},
   "outputs": [
    {
     "data": {
      "text/html": [
       "<div>\n",
       "<style scoped>\n",
       "    .dataframe tbody tr th:only-of-type {\n",
       "        vertical-align: middle;\n",
       "    }\n",
       "\n",
       "    .dataframe tbody tr th {\n",
       "        vertical-align: top;\n",
       "    }\n",
       "\n",
       "    .dataframe thead th {\n",
       "        text-align: right;\n",
       "    }\n",
       "</style>\n",
       "<table border=\"1\" class=\"dataframe\">\n",
       "  <thead>\n",
       "    <tr style=\"text-align: right;\">\n",
       "      <th></th>\n",
       "      <th>weight</th>\n",
       "      <th>price</th>\n",
       "    </tr>\n",
       "  </thead>\n",
       "  <tbody>\n",
       "    <tr>\n",
       "      <th>2</th>\n",
       "      <td>72</td>\n",
       "      <td>83</td>\n",
       "    </tr>\n",
       "    <tr>\n",
       "      <th>4</th>\n",
       "      <td>46</td>\n",
       "      <td>4</td>\n",
       "    </tr>\n",
       "    <tr>\n",
       "      <th>5</th>\n",
       "      <td>55</td>\n",
       "      <td>44</td>\n",
       "    </tr>\n",
       "    <tr>\n",
       "      <th>6</th>\n",
       "      <td>8</td>\n",
       "      <td>6</td>\n",
       "    </tr>\n",
       "    <tr>\n",
       "      <th>7</th>\n",
       "      <td>35</td>\n",
       "      <td>82</td>\n",
       "    </tr>\n",
       "    <tr>\n",
       "      <th>8</th>\n",
       "      <td>75</td>\n",
       "      <td>92</td>\n",
       "    </tr>\n",
       "    <tr>\n",
       "      <th>9</th>\n",
       "      <td>61</td>\n",
       "      <td>25</td>\n",
       "    </tr>\n",
       "    <tr>\n",
       "      <th>11</th>\n",
       "      <td>77</td>\n",
       "      <td>56</td>\n",
       "    </tr>\n",
       "    <tr>\n",
       "      <th>12</th>\n",
       "      <td>40</td>\n",
       "      <td>18</td>\n",
       "    </tr>\n",
       "    <tr>\n",
       "      <th>13</th>\n",
       "      <td>63</td>\n",
       "      <td>58</td>\n",
       "    </tr>\n",
       "    <tr>\n",
       "      <th>20</th>\n",
       "      <td>44</td>\n",
       "      <td>92</td>\n",
       "    </tr>\n",
       "  </tbody>\n",
       "</table>\n",
       "</div>"
      ],
      "text/plain": [
       "    weight  price\n",
       "2       72     83\n",
       "4       46      4\n",
       "5       55     44\n",
       "6        8      6\n",
       "7       35     82\n",
       "8       75     92\n",
       "9       61     25\n",
       "11      77     56\n",
       "12      40     18\n",
       "13      63     58\n",
       "20      44     92"
      ]
     },
     "execution_count": 9,
     "metadata": {},
     "output_type": "execute_result"
    }
   ],
   "source": [
    "idx = np.arange(len(data_x))\n",
    "idx = idx[np.round(sol).astype(bool)]\n",
    "carried = data_x.iloc[idx]\n",
    "carried"
   ]
  },
  {
   "cell_type": "markdown",
   "metadata": {},
   "source": [
    "# Fitness Function"
   ]
  },
  {
   "cell_type": "code",
   "execution_count": 10,
   "metadata": {},
   "outputs": [],
   "source": [
    "def fit(sol, data, max_w) :\n",
    "    #Discretization\n",
    "    mask = np.round(sol).astype(bool)\n",
    "    \n",
    "    #decode\n",
    "    idx = np.arange(len(data))\n",
    "    idx = idx[mask]\n",
    "    data_solution = data.iloc[idx]\n",
    "    \n",
    "    #price \n",
    "    price = np.sum(data_solution['price'])\n",
    "    weight = np.sum(data_solution['weight'])\n",
    "    if weight <= max_w:\n",
    "        return price\n",
    "    else :\n",
    "        return 0"
   ]
  },
  {
   "cell_type": "code",
   "execution_count": 11,
   "metadata": {},
   "outputs": [],
   "source": [
    "# Hyper parameters \n",
    "fmin = 0\n",
    "fmax = 1\n",
    "A = 1\n",
    "alpha = 0.98\n",
    "gamma = 0.98\n",
    "population = 20"
   ]
  },
  {
   "cell_type": "code",
   "execution_count": 12,
   "metadata": {},
   "outputs": [],
   "source": [
    "# def init_x (population, data_size):\n",
    "#     return np.random.random((population,data_size))\n",
    "\n",
    "# def init_f (population, fmin,fmax):\n",
    "#     return  np.random.uniform(fmin,fmax,population)\n",
    "\n",
    "# def init_v (poulation):\n",
    "#     return np.zeros(population)\n",
    "\n",
    "# def init_y (solutions,data):\n",
    "#     #solutions : list of solution\n",
    "#     Y = np.zeros(len(solutions))\n",
    "#     for i,sol in enumerate(solutions) : \n",
    "#         Y[i] = fit(sol,data)\n",
    "#     return Y\n",
    "\n",
    "# def init_r (population):\n",
    "#     return np.random.random(population)\n",
    "\n",
    "# def init_A (population):\n",
    "#     # Aku lupa A itu apa\n",
    "#     return None"
   ]
  },
  {
   "cell_type": "code",
   "execution_count": 75,
   "metadata": {},
   "outputs": [],
   "source": [
    "class bat:\n",
    "    def __init__(self, population, data, max_w, fmin, fmax, A, alpha, gamma):\n",
    "        self.population = population\n",
    "        self.data = data\n",
    "        self.max_w = max_w\n",
    "        self.fmin = fmin\n",
    "        self.fmax = fmax\n",
    "        self.A = A\n",
    "        self.alpha = alpha\n",
    "        self.gamma = gamma\n",
    "        self.data_size = len(data)\n",
    "        self.best_sol = None\n",
    "        \n",
    "        self.init_x()\n",
    "        self.init_f()\n",
    "        self.init_v()\n",
    "        self.init_y()\n",
    "        self.init_r()\n",
    "                \n",
    "    def init_x (self):\n",
    "        self.solutions =  np.random.random((self.population,self.data_size))\n",
    "        \n",
    "    def init_f (self):\n",
    "        self.f = np.random.uniform(self.fmin,self.fmax,self.population)\n",
    "\n",
    "    def init_v (self):\n",
    "        self.v = np.zeros((self.population, self.data_size))\n",
    "\n",
    "    def init_y (self):\n",
    "        Y = np.zeros(len(self.solutions))\n",
    "        for i,sol in enumerate(self.solutions) : \n",
    "            Y[i] = fit(sol,self.data, self.max_w)\n",
    "        \n",
    "        self.Y = Y\n",
    "\n",
    "    def init_r (self):\n",
    "        self.r = np.random.random(self.population)\n",
    "        \n",
    "    \n",
    "    def update_f(self):\n",
    "        self.fmin = np.min(self.f)\n",
    "        self.fmax = np.max(self.f)\n",
    "        betha = np.random.random(len(self.f))\n",
    "        self.f = betha*(self.fmax-self.fmin) + self.fmin\n",
    "    \n",
    "    def update_v(self):\n",
    "        self.find_best_solution()\n",
    "        r = (self.solutions - self.best_sol)\n",
    "        rr = [r[i] * baat.f[i] for i in range(len(r))] # perkalian r dengan f\n",
    "        \n",
    "        self.v = self.v + rr\n",
    "    \n",
    "    def update_x(self):\n",
    "        self.solutions += self.v\n",
    "    \n",
    "    #__________________\n",
    "    def find_best_solution(self):\n",
    "        self.best_sol = self.solutions[np.argmax(self.Y)]"
   ]
  },
  {
   "cell_type": "code",
   "execution_count": 82,
   "metadata": {},
   "outputs": [],
   "source": [
    "baat = bat(10,data_x,data_w,fmin,fmax,A,alpha,gamma)"
   ]
  },
  {
   "cell_type": "code",
   "execution_count": 83,
   "metadata": {},
   "outputs": [],
   "source": [
    "# def train(bat, epoch):\n",
    "#     for i in range(epoch):\n",
    "#         #update kelelawar\n",
    "        "
   ]
  },
  {
   "cell_type": "markdown",
   "metadata": {},
   "source": [
    "# ini line coba"
   ]
  },
  {
   "cell_type": "code",
   "execution_count": 85,
   "metadata": {},
   "outputs": [
    {
     "data": {
      "text/plain": [
       "(10, 20)"
      ]
     },
     "execution_count": 85,
     "metadata": {},
     "output_type": "execute_result"
    }
   ],
   "source": [
    "baat.solutions.shape"
   ]
  },
  {
   "cell_type": "code",
   "execution_count": 87,
   "metadata": {},
   "outputs": [
    {
     "data": {
      "text/plain": [
       "array([0.40849602, 0.4550697 , 0.63402954, 0.51261623, 0.84757873,\n",
       "       0.83249064, 0.98522798, 0.63150433, 0.55785305, 0.24440975])"
      ]
     },
     "execution_count": 87,
     "metadata": {},
     "output_type": "execute_result"
    }
   ],
   "source": [
    "baat.f"
   ]
  },
  {
   "cell_type": "code",
   "execution_count": 88,
   "metadata": {},
   "outputs": [],
   "source": [
    "baat.update_f()"
   ]
  },
  {
   "cell_type": "code",
   "execution_count": 89,
   "metadata": {},
   "outputs": [
    {
     "data": {
      "text/plain": [
       "array([0.45095719, 0.77874818, 0.28309018, 0.35866644, 0.32210485,\n",
       "       0.24877135, 0.72690442, 0.43384982, 0.73107937, 0.44363727])"
      ]
     },
     "execution_count": 89,
     "metadata": {},
     "output_type": "execute_result"
    }
   ],
   "source": [
    "baat.f"
   ]
  },
  {
   "cell_type": "code",
   "execution_count": 91,
   "metadata": {},
   "outputs": [
    {
     "data": {
      "text/plain": [
       "(10, 20)"
      ]
     },
     "execution_count": 91,
     "metadata": {},
     "output_type": "execute_result"
    }
   ],
   "source": [
    "baat.v.shape"
   ]
  },
  {
   "cell_type": "code",
   "execution_count": 94,
   "metadata": {
    "scrolled": true
   },
   "outputs": [
    {
     "data": {
      "text/plain": [
       "array([[-0.17222884, -0.2898008 , -0.07717717, -0.17424419, -0.47198584,\n",
       "        -0.20806053,  1.15451558,  0.46703157, -0.57073202, -0.18200111,\n",
       "         0.30082647,  0.26351575,  0.17755438, -0.73708875, -0.29160625,\n",
       "        -0.7153411 , -0.49155094, -0.96478454, -0.79877989, -0.90187088],\n",
       "       [-0.38353062, -0.84902131,  1.14710007, -0.75672833, -0.69258168,\n",
       "        -0.87820194,  0.69854086,  1.67521123, -0.58005214, -0.94861524,\n",
       "         0.97447339, -0.40801241, -1.54411298,  0.80400331, -0.29029957,\n",
       "        -1.6400605 , -1.14579938, -1.50105068, -0.00633694, -1.38297755],\n",
       "       [ 0.        ,  0.        ,  0.        ,  0.        ,  0.        ,\n",
       "         0.        ,  0.        ,  0.        ,  0.        ,  0.        ,\n",
       "         0.        ,  0.        ,  0.        ,  0.        ,  0.        ,\n",
       "         0.        ,  0.        ,  0.        ,  0.        ,  0.        ],\n",
       "       [ 0.24782944, -0.31082071, -0.1137984 , -0.35370549, -0.06274649,\n",
       "        -0.2829052 ,  0.15209052,  0.80338344,  0.01984751,  0.34672148,\n",
       "        -0.17641789, -0.31062777, -0.66934193,  0.27545772, -0.11618007,\n",
       "        -0.06785067, -0.55300544, -0.09339793, -0.01579636, -0.03758194],\n",
       "       [-0.56012076, -0.16452092, -0.39164265, -0.46872631, -0.27335688,\n",
       "         0.05370159,  0.46371176,  0.10767945, -0.12728499, -0.22647894,\n",
       "        -0.1577311 , -0.59297017, -0.01631047,  0.22491408, -0.34557559,\n",
       "        -0.67905474,  0.31433643, -0.58481321, -0.63835166, -0.49418058],\n",
       "       [-0.27558232, -0.49129578,  0.34017606, -0.14987289, -0.36334596,\n",
       "         0.37287787,  0.44188082,  0.02374831, -0.27632254,  0.05602965,\n",
       "         0.01394504, -0.27647832, -0.22313491,  0.29243489, -0.13547651,\n",
       "         0.01990596,  0.09327765, -0.28127474, -0.44412284, -0.51872766],\n",
       "       [-0.25163555, -0.59955452,  0.73609635,  0.70885028, -0.940381  ,\n",
       "         1.09903147,  0.05831473,  0.71049171, -1.08361629, -0.67235875,\n",
       "        -0.26675818,  0.42405566, -1.38301314, -0.85428119, -0.94457894,\n",
       "        -2.03580927, -1.09667417, -1.73402518, -0.22285724, -1.16111668],\n",
       "       [ 0.30681964, -0.57717145,  0.02156916, -0.44055558, -0.19618968,\n",
       "         0.16623215,  0.72990469, -0.1713589 , -0.3425483 ,  0.31377157,\n",
       "         0.58813046, -0.12496688, -0.56007745, -0.67166911, -0.50999626,\n",
       "        -1.21100577, -0.42171146, -1.05037643,  0.23044138, -0.16870478],\n",
       "       [-0.39491549, -1.83274123, -0.04912079,  0.59625824, -0.72081629,\n",
       "        -0.68464962,  0.05939927,  1.49535993,  0.36513211, -0.69380236,\n",
       "         0.06602254, -0.57537012, -0.41009741,  0.34404405,  0.83352381,\n",
       "        -0.75844171, -0.76416826, -2.0579046 , -1.75039126,  0.13774471],\n",
       "       [-0.68038071, -1.07901973, -0.21568402, -0.43699158, -0.03745428,\n",
       "         0.65226732,  0.77436893,  0.06938474, -0.55909802, -0.38246458,\n",
       "        -0.01127803, -0.790152  , -0.69245288,  0.05540928, -0.15434473,\n",
       "        -1.05928387, -0.36992709, -0.07164532, -0.13618665,  0.09199545]])"
      ]
     },
     "execution_count": 94,
     "metadata": {},
     "output_type": "execute_result"
    }
   ],
   "source": [
    "baat.update_v()\n",
    "baat.v"
   ]
  },
  {
   "cell_type": "code",
   "execution_count": 100,
   "metadata": {
    "scrolled": true
   },
   "outputs": [
    {
     "data": {
      "text/plain": [
       "(10, 20)"
      ]
     },
     "execution_count": 100,
     "metadata": {},
     "output_type": "execute_result"
    }
   ],
   "source": [
    "baat.solutions.shape"
   ]
  },
  {
   "cell_type": "code",
   "execution_count": 99,
   "metadata": {},
   "outputs": [
    {
     "data": {
      "text/plain": [
       "(10, 20)"
      ]
     },
     "execution_count": 99,
     "metadata": {},
     "output_type": "execute_result"
    }
   ],
   "source": [
    "baat.update_x()\n",
    "baat.solutions.shape"
   ]
  },
  {
   "cell_type": "code",
   "execution_count": null,
   "metadata": {},
   "outputs": [],
   "source": []
  }
 ],
 "metadata": {
  "kernelspec": {
   "display_name": "Python 3",
   "language": "python",
   "name": "python3"
  },
  "language_info": {
   "codemirror_mode": {
    "name": "ipython",
    "version": 3
   },
   "file_extension": ".py",
   "mimetype": "text/x-python",
   "name": "python",
   "nbconvert_exporter": "python",
   "pygments_lexer": "ipython3",
   "version": "3.7.0"
  }
 },
 "nbformat": 4,
 "nbformat_minor": 2
}
