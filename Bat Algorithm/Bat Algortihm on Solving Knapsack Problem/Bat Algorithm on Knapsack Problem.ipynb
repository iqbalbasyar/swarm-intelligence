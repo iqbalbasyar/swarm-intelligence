{
 "cells": [
  {
   "cell_type": "markdown",
   "metadata": {},
   "source": [
    "# Studi Kasus dan Analisis Masalah"
   ]
  },
  {
   "cell_type": "markdown",
   "metadata": {},
   "source": [
    "Studi kasus yang digunakan adalah kasus knapsack dengan jumlah barang sebanyak 23 item yang masing-masingnya memiliki `price` dan `weight` yang berbeda. Data didapatkan dari dataset pada link berikut: http://artemisa.unicauca.edu.co/~johnyortega/instances_01_KP/. Dari studi kasus diatas, akan dipilih barang dengan _weight_ tidak lebih dari 10.000 (kg) dengan memaksimalkan _cost_ (dalam hal ini _price_) yang didapat. "
   ]
  },
  {
   "cell_type": "markdown",
   "metadata": {},
   "source": [
    "# Metode dan Desain Individu"
   ]
  },
  {
   "cell_type": "markdown",
   "metadata": {},
   "source": [
    "Dalam Tugas 3 kali ini, masalah diselesaikan menggunakan Bat Algorithm. Dalam Bat Algorithm, satu individu merepresentasikan satu solusi. Representasi individu yang kita gunakan adalah sebagai berikut:"
   ]
  },
  {
   "cell_type": "markdown",
   "metadata": {},
   "source": [
    "| 0 | 1 | .. | .. | 23 |\n",
    "|:---:|:---:|:---:|:---:|:---:|\n",
    "| 0/1 | 0/1 | 0/1 | 0/1 | 0/1 |"
   ]
  },
  {
   "cell_type": "code",
   "execution_count": 29,
   "metadata": {},
   "outputs": [],
   "source": [
    "import matplotlib.pyplot as plt\n",
    "import numpy as np"
   ]
  },
  {
   "cell_type": "markdown",
   "metadata": {},
   "source": [
    "# Data Preparation"
   ]
  },
  {
   "cell_type": "code",
   "execution_count": 30,
   "metadata": {},
   "outputs": [],
   "source": [
    "import data_module as dm\n",
    "DLS_X, DLS_Y, DLS_W, DLD_X, DLD_Y, DLD_W = dm.import_data()\n",
    "#DLS = data large scale, contains thousands of datapoints\n",
    "#DLD = data low dimension, contains less than or hundreds of datapoints"
   ]
  },
  {
   "cell_type": "code",
   "execution_count": 31,
   "metadata": {},
   "outputs": [],
   "source": [
    "#select DLD first, as we gonna try to build up the model (faster execution)\n",
    "data_w = DLD_W[0] #maximum weight\n",
    "data_x = DLD_X[0] #datapoints\n",
    "data_y = DLD_Y[0] #optimum values"
   ]
  },
  {
   "cell_type": "markdown",
   "metadata": {},
   "source": [
    "# Solution Representation\n",
    "The solution is represented as boolean mask of $N$ size, where $N$ is the size of data. 1 or True means the consecutive data is selected / carried away. 0 or False menas the consecutive data is not selected/carried away"
   ]
  },
  {
   "cell_type": "code",
   "execution_count": 32,
   "metadata": {},
   "outputs": [
    {
     "data": {
      "text/plain": [
       "array([0.70684539, 0.02429043, 0.88079275, 0.93380917, 0.4551396 ,\n",
       "       0.60715429, 0.10364445, 0.35723473, 0.43712462, 0.05547631,\n",
       "       0.74968635, 0.79481003, 0.89934715, 0.37918849, 0.28049629,\n",
       "       0.65823487, 0.48267186, 0.76723463, 0.61453433, 0.25155775])"
      ]
     },
     "execution_count": 32,
     "metadata": {},
     "output_type": "execute_result"
    }
   ],
   "source": [
    "sol = np.random.random(len(data_x))\n",
    "sol"
   ]
  },
  {
   "cell_type": "code",
   "execution_count": 33,
   "metadata": {},
   "outputs": [
    {
     "data": {
      "text/plain": [
       "array([ True, False,  True,  True, False,  True, False, False, False,\n",
       "       False,  True,  True,  True, False, False,  True, False,  True,\n",
       "        True, False])"
      ]
     },
     "execution_count": 33,
     "metadata": {},
     "output_type": "execute_result"
    }
   ],
   "source": [
    "#after discretizatoin\n",
    "np.round(sol).astype(bool)"
   ]
  },
  {
   "cell_type": "code",
   "execution_count": 34,
   "metadata": {
    "scrolled": true
   },
   "outputs": [
    {
     "data": {
      "text/html": [
       "<div>\n",
       "<style scoped>\n",
       "    .dataframe tbody tr th:only-of-type {\n",
       "        vertical-align: middle;\n",
       "    }\n",
       "\n",
       "    .dataframe tbody tr th {\n",
       "        vertical-align: top;\n",
       "    }\n",
       "\n",
       "    .dataframe thead th {\n",
       "        text-align: right;\n",
       "    }\n",
       "</style>\n",
       "<table border=\"1\" class=\"dataframe\">\n",
       "  <thead>\n",
       "    <tr style=\"text-align: right;\">\n",
       "      <th></th>\n",
       "      <th>weight</th>\n",
       "      <th>price</th>\n",
       "    </tr>\n",
       "  </thead>\n",
       "  <tbody>\n",
       "    <tr>\n",
       "      <th>1</th>\n",
       "      <td>91</td>\n",
       "      <td>84</td>\n",
       "    </tr>\n",
       "    <tr>\n",
       "      <th>3</th>\n",
       "      <td>90</td>\n",
       "      <td>43</td>\n",
       "    </tr>\n",
       "    <tr>\n",
       "      <th>4</th>\n",
       "      <td>46</td>\n",
       "      <td>4</td>\n",
       "    </tr>\n",
       "    <tr>\n",
       "      <th>6</th>\n",
       "      <td>8</td>\n",
       "      <td>6</td>\n",
       "    </tr>\n",
       "    <tr>\n",
       "      <th>11</th>\n",
       "      <td>77</td>\n",
       "      <td>56</td>\n",
       "    </tr>\n",
       "    <tr>\n",
       "      <th>12</th>\n",
       "      <td>40</td>\n",
       "      <td>18</td>\n",
       "    </tr>\n",
       "    <tr>\n",
       "      <th>13</th>\n",
       "      <td>63</td>\n",
       "      <td>58</td>\n",
       "    </tr>\n",
       "    <tr>\n",
       "      <th>16</th>\n",
       "      <td>75</td>\n",
       "      <td>70</td>\n",
       "    </tr>\n",
       "    <tr>\n",
       "      <th>18</th>\n",
       "      <td>78</td>\n",
       "      <td>32</td>\n",
       "    </tr>\n",
       "    <tr>\n",
       "      <th>19</th>\n",
       "      <td>40</td>\n",
       "      <td>68</td>\n",
       "    </tr>\n",
       "  </tbody>\n",
       "</table>\n",
       "</div>"
      ],
      "text/plain": [
       "    weight  price\n",
       "1       91     84\n",
       "3       90     43\n",
       "4       46      4\n",
       "6        8      6\n",
       "11      77     56\n",
       "12      40     18\n",
       "13      63     58\n",
       "16      75     70\n",
       "18      78     32\n",
       "19      40     68"
      ]
     },
     "execution_count": 34,
     "metadata": {},
     "output_type": "execute_result"
    }
   ],
   "source": [
    "idx = np.arange(len(data_x))\n",
    "idx = idx[np.round(sol).astype(bool)]\n",
    "carried = data_x.iloc[idx]\n",
    "carried"
   ]
  },
  {
   "cell_type": "markdown",
   "metadata": {},
   "source": [
    "# Fitness Function"
   ]
  },
  {
   "cell_type": "code",
   "execution_count": 35,
   "metadata": {},
   "outputs": [],
   "source": [
    "def fit(sol, data, max_w) :\n",
    "    #Discretization\n",
    "    mask = np.round(sol).astype(bool)\n",
    "    \n",
    "    #decode\n",
    "    idx = np.arange(len(data))\n",
    "    idx = idx[mask]\n",
    "    data_solution = data.iloc[idx]\n",
    "    \n",
    "    #price \n",
    "    price = np.sum(data_solution['price'])\n",
    "    weight = np.sum(data_solution['weight'])\n",
    "    if weight <= max_w:\n",
    "        return price\n",
    "    else :\n",
    "        return 0"
   ]
  },
  {
   "cell_type": "code",
   "execution_count": 36,
   "metadata": {},
   "outputs": [],
   "source": [
    "class bat:\n",
    "    def __init__(self, population, data, max_w, fmin, fmax, A, alpha, gamma):\n",
    "        self.population = population\n",
    "        self.data = data\n",
    "        self.max_w = max_w\n",
    "        self.fmin = fmin\n",
    "        self.fmax = fmax\n",
    "        self.A = A\n",
    "        self.alpha = alpha\n",
    "        self.gamma = gamma\n",
    "        self.data_size = len(data)\n",
    "        self.best_sol = None\n",
    "        self.t = 1 #iteration \n",
    "        \n",
    "        self.init_x()\n",
    "        self.init_f()\n",
    "        self.init_v()\n",
    "        self.init_y()\n",
    "        self.init_r()\n",
    "                \n",
    "    def init_x (self):\n",
    "        self.solutions =  np.random.random((self.population,self.data_size))\n",
    "        \n",
    "    def init_f (self):\n",
    "        self.f = np.random.uniform(self.fmin,self.fmax,self.population)\n",
    "\n",
    "    def init_v (self):\n",
    "        self.v = np.zeros((self.population, self.data_size))\n",
    "\n",
    "    def init_y (self):\n",
    "        Y = np.zeros(len(self.solutions))\n",
    "        for i,sol in enumerate(self.solutions) : \n",
    "            Y[i] = fit(sol,self.data, self.max_w)\n",
    "        \n",
    "        self.Y = Y\n",
    "\n",
    "    def init_r (self):\n",
    "        self.r = np.random.random(self.population)\n",
    "        self.r0 = self.r\n",
    "        \n",
    "    \n",
    "    def update_f(self):\n",
    "        self.fmin = np.min(self.f)\n",
    "        self.fmax = np.max(self.f)\n",
    "        betha = np.random.random(len(self.f))\n",
    "        self.f = betha*(self.fmax-self.fmin) + self.fmin\n",
    "    \n",
    "    def update_v(self):\n",
    "        self.find_best_solution()\n",
    "        r = (self.solutions - self.best_sol)\n",
    "        rr = [r[i] * self.f[i] for i in range(len(r))] # perkalian r dengan f\n",
    "        \n",
    "        self.v = self.v + rr\n",
    "        self.normalize_v()\n",
    "    \n",
    "    def update_x(self):\n",
    "        self.solutions += self.v\n",
    "        self.normalize_solution()\n",
    "        self.update_y()\n",
    "        self.localsearch()\n",
    "        self.update_y\n",
    "        self.find_best_solution()\n",
    "        \n",
    "    def update_A(self):\n",
    "        self.A = self.A * self.alpha\n",
    "    \n",
    "    def update_r(self):\n",
    "        self.r = self.r0 * (1- np.exp(-self.gamma*self.t))\n",
    "        self.t += 1\n",
    "    \n",
    "    def update_y(self):\n",
    "        Y = np.zeros(len(self.solutions))\n",
    "        for i,sol in enumerate(self.solutions) : \n",
    "            Y[i] = fit(sol,self.data, self.max_w)\n",
    "        self.Y = Y\n",
    "\n",
    "    #__________________\n",
    "    def find_best_solution(self):\n",
    "        self.best_sol = self.solutions[np.argmax(self.Y)]\n",
    "        \n",
    "    def normalize_solution(self):\n",
    "#         self.solutions = np.absolute(self.solutions / (np.max(self.solutions) - np.min(self.solutions)))\n",
    "        self.solutions[self.solutions > 1] = 1\n",
    "        self.solutions[self.solutions < 0] = 0\n",
    "        \n",
    "    def normalize_v(self):\n",
    "        self.v = np.sin(self.v)\n",
    "            \n",
    "    def extract_solution(self):\n",
    "        #Discretization\n",
    "        mask = np.round(self.best_sol).astype(bool)\n",
    "\n",
    "        #decode\n",
    "        idx = np.arange(len(self.data))\n",
    "        idx = idx[mask]\n",
    "        data_solution = self.data.iloc[idx]\n",
    "\n",
    "        return data_solution\n",
    "        \n",
    "    def mutate(self,x):\n",
    "        size = len(x)\n",
    "        sizex = size//5\n",
    "        idx = np.random.permutation(size)[:sizex]\n",
    "\n",
    "        x[idx] = 1-x[idx]\n",
    "\n",
    "        return x\n",
    "    \n",
    "    def localsearch(self):\n",
    "        idxm = np.where(self.Y == 0)\n",
    "        cm = self.solutions[ idxm ]\n",
    "        for i in range(len(cm)): \n",
    "            cm[i] = self.mutate(cm[i])\n",
    "        \n",
    "        self.solutions[idxm] = cm\n",
    "        "
   ]
  },
  {
   "cell_type": "code",
   "execution_count": 37,
   "metadata": {},
   "outputs": [],
   "source": [
    "# Hyper parameters \n",
    "fmin = 0\n",
    "fmax = 1\n",
    "A = 1\n",
    "alpha = 0.98\n",
    "gamma = 0.98\n",
    "population = 75\n",
    "epoch = 25"
   ]
  },
  {
   "cell_type": "code",
   "execution_count": 38,
   "metadata": {},
   "outputs": [],
   "source": [
    "#select DLD first, as we gonna try to build up the model (faster execution)\n",
    "data_w = DLS_W[4] #maximum weight\n",
    "data_x = DLS_X[4] #datapoints\n",
    "data_y = DLS_Y[4] #optimum values\n",
    "\n",
    "data_w = DLD_W[8] #maximum weight\n",
    "data_x = DLD_X[8] #datapoints\n",
    "data_y = DLD_Y[8] #optimum values\n",
    "\n",
    "# data_w = 1000000"
   ]
  },
  {
   "cell_type": "markdown",
   "metadata": {},
   "source": [
    "\n",
    "# ini line coba"
   ]
  },
  {
   "cell_type": "code",
   "execution_count": 39,
   "metadata": {
    "scrolled": false
   },
   "outputs": [
    {
     "name": "stdout",
     "output_type": "stream",
     "text": [
      "with an average solution equal to 9735.033  from  9767\n",
      "Average accuracy equal to 99.673  %\n"
     ]
    },
    {
     "data": {
      "image/png": "[encoded data removed]",
      "text/plain": [
       "<Figure size 936x360 with 1 Axes>"
      ]
     },
     "metadata": {
      "needs_background": "light"
     },
     "output_type": "display_data"
    }
   ],
   "source": [
    "solution = []\n",
    "acc = []\n",
    "for loop in range(30):\n",
    "    localSolution = []\n",
    "    baat = bat(population,data_x,data_w,fmin,fmax,A,alpha,gamma)\n",
    "    for i in range(epoch):\n",
    "        baat.update_f()\n",
    "        baat.update_v()\n",
    "        baat.update_x()    \n",
    "        baat.update_r()\n",
    "        localSolution.append(np.max(baat.Y))\n",
    "    solution.append(sum(localSolution)/len(localSolution))\n",
    "    acc.append((sum(localSolution)/len(localSolution))/data_y)\n",
    "averageSolution = sum(solution)/len(solution)\n",
    "averageAcc = (sum(acc)/len(solution))*100\n",
    "plt.figure(figsize=(13,5))\n",
    "plt.plot(solution, \"go--\")\n",
    "print (\"with an average solution equal to\",'%.3f' % averageSolution, \" from \", data_y)\n",
    "print (\"Average accuracy equal to\",'%.3f' % averageAcc, ' %')\n",
    "plt.show()\n",
    "\n"
   ]
  },
  {
   "cell_type": "code",
   "execution_count": null,
   "metadata": {
    "collapsed": true
   },
   "outputs": [],
   "source": []
  }
 ],
 "metadata": {
  "kernelspec": {
   "display_name": "Python 3",
   "language": "python",
   "name": "python3"
  },
  "language_info": {
   "codemirror_mode": {
    "name": "ipython",
    "version": 3
   },
   "file_extension": ".py",
   "mimetype": "text/x-python",
   "name": "python",
   "nbconvert_exporter": "python",
   "pygments_lexer": "ipython3",
   "version": "3.7.0"
  }
 },
 "nbformat": 4,
 "nbformat_minor": 2
}
