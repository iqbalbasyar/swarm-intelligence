{
 "cells": [
  {
   "cell_type": "code",
   "execution_count": 4,
   "metadata": {},
   "outputs": [],
   "source": [
    "import numpy as np"
   ]
  },
  {
   "cell_type": "markdown",
   "metadata": {},
   "source": [
    "# Data Preparation"
   ]
  },
  {
   "cell_type": "code",
   "execution_count": 5,
   "metadata": {},
   "outputs": [],
   "source": [
    "import data_module as dm\n",
    "DLS_X, DLS_Y, DLS_W, DLD_X, DLD_Y, DLD_W = dm.import_data()\n",
    "#DLS = data large scale, contains thousands of datapoints\n",
    "#DLD = data low dimension, contains less than or hundreds of datapoints"
   ]
  },
  {
   "cell_type": "code",
   "execution_count": 6,
   "metadata": {},
   "outputs": [],
   "source": [
    "#select DLD first, as we gonna try to build up the model (faster execution)\n",
    "data_w = DLD_W[0] #maximum weight\n",
    "data_x = DLD_X[0] #datapoints\n",
    "data_y = DLD_Y[0] #optimum values"
   ]
  },
  {
   "cell_type": "markdown",
   "metadata": {},
   "source": [
    "# Solution Representation\n",
    "The solution is represented as boolean mask of $N$ size, where $N$ is the size of data. 1 or True means the consecutive data is selected / carried away. 0 or False menas the consecutive data is not selected/carried away"
   ]
  },
  {
   "cell_type": "code",
   "execution_count": 7,
   "metadata": {},
   "outputs": [
    {
     "data": {
      "text/plain": [
       "array([0.26883136, 0.58847016, 0.33888147, 0.60731337, 0.86338164,\n",
       "       0.93504649, 0.74749793, 0.72260778, 0.7234924 , 0.28433166,\n",
       "       0.5799968 , 0.96382489, 0.52424693, 0.27918827, 0.25235398,\n",
       "       0.09644272, 0.00990284, 0.4418656 , 0.31693068, 0.5861497 ])"
      ]
     },
     "execution_count": 7,
     "metadata": {},
     "output_type": "execute_result"
    }
   ],
   "source": [
    "sol = np.random.random(len(data_x))\n",
    "sol"
   ]
  },
  {
   "cell_type": "code",
   "execution_count": 8,
   "metadata": {},
   "outputs": [
    {
     "data": {
      "text/plain": [
       "array([0., 1., 0., 1., 1., 1., 1., 1., 1., 0., 1., 1., 1., 0., 0., 0., 0.,\n",
       "       0., 0., 1.])"
      ]
     },
     "execution_count": 8,
     "metadata": {},
     "output_type": "execute_result"
    }
   ],
   "source": [
    "#after discretizatoin\n",
    "np.round(sol)"
   ]
  },
  {
   "cell_type": "code",
   "execution_count": 9,
   "metadata": {},
   "outputs": [
    {
     "data": {
      "text/html": [
       "<div>\n",
       "<style scoped>\n",
       "    .dataframe tbody tr th:only-of-type {\n",
       "        vertical-align: middle;\n",
       "    }\n",
       "\n",
       "    .dataframe tbody tr th {\n",
       "        vertical-align: top;\n",
       "    }\n",
       "\n",
       "    .dataframe thead th {\n",
       "        text-align: right;\n",
       "    }\n",
       "</style>\n",
       "<table border=\"1\" class=\"dataframe\">\n",
       "  <thead>\n",
       "    <tr style=\"text-align: right;\">\n",
       "      <th></th>\n",
       "      <th>weight</th>\n",
       "      <th>price</th>\n",
       "    </tr>\n",
       "  </thead>\n",
       "  <tbody>\n",
       "    <tr>\n",
       "      <th>2</th>\n",
       "      <td>72</td>\n",
       "      <td>83</td>\n",
       "    </tr>\n",
       "    <tr>\n",
       "      <th>4</th>\n",
       "      <td>46</td>\n",
       "      <td>4</td>\n",
       "    </tr>\n",
       "    <tr>\n",
       "      <th>5</th>\n",
       "      <td>55</td>\n",
       "      <td>44</td>\n",
       "    </tr>\n",
       "    <tr>\n",
       "      <th>6</th>\n",
       "      <td>8</td>\n",
       "      <td>6</td>\n",
       "    </tr>\n",
       "    <tr>\n",
       "      <th>7</th>\n",
       "      <td>35</td>\n",
       "      <td>82</td>\n",
       "    </tr>\n",
       "    <tr>\n",
       "      <th>8</th>\n",
       "      <td>75</td>\n",
       "      <td>92</td>\n",
       "    </tr>\n",
       "    <tr>\n",
       "      <th>9</th>\n",
       "      <td>61</td>\n",
       "      <td>25</td>\n",
       "    </tr>\n",
       "    <tr>\n",
       "      <th>11</th>\n",
       "      <td>77</td>\n",
       "      <td>56</td>\n",
       "    </tr>\n",
       "    <tr>\n",
       "      <th>12</th>\n",
       "      <td>40</td>\n",
       "      <td>18</td>\n",
       "    </tr>\n",
       "    <tr>\n",
       "      <th>13</th>\n",
       "      <td>63</td>\n",
       "      <td>58</td>\n",
       "    </tr>\n",
       "    <tr>\n",
       "      <th>20</th>\n",
       "      <td>44</td>\n",
       "      <td>92</td>\n",
       "    </tr>\n",
       "  </tbody>\n",
       "</table>\n",
       "</div>"
      ],
      "text/plain": [
       "    weight  price\n",
       "2       72     83\n",
       "4       46      4\n",
       "5       55     44\n",
       "6        8      6\n",
       "7       35     82\n",
       "8       75     92\n",
       "9       61     25\n",
       "11      77     56\n",
       "12      40     18\n",
       "13      63     58\n",
       "20      44     92"
      ]
     },
     "execution_count": 9,
     "metadata": {},
     "output_type": "execute_result"
    }
   ],
   "source": [
    "idx = np.arange(len(data_x))\n",
    "idx = idx[np.round(sol).astype(bool)]\n",
    "carried = data_x.iloc[idx]\n",
    "carried"
   ]
  },
  {
   "cell_type": "markdown",
   "metadata": {},
   "source": [
    "# Fitness Function"
   ]
  },
  {
   "cell_type": "code",
   "execution_count": 10,
   "metadata": {},
   "outputs": [],
   "source": [
    "def fit(sol, data, max_w) :\n",
    "    #Discretization\n",
    "    mask = np.round(sol).astype(bool)\n",
    "    \n",
    "    #decode\n",
    "    idx = np.arange(len(data))\n",
    "    idx = idx[mask]\n",
    "    data_solution = data.iloc[idx]\n",
    "    \n",
    "    #price \n",
    "    price = np.sum(data_solution['price'])\n",
    "    weight = np.sum(data_solution['weight'])\n",
    "    if weight <= max_w:\n",
    "        return price\n",
    "    else :\n",
    "        return 0"
   ]
  },
  {
   "cell_type": "code",
   "execution_count": 11,
   "metadata": {},
   "outputs": [],
   "source": [
    "# Hyper parameters \n",
    "fmin = 0\n",
    "fmax = 1\n",
    "A = 1\n",
    "alpha = 0.98\n",
    "gamma = 0.98\n",
    "population = 20"
   ]
  },
  {
   "cell_type": "code",
   "execution_count": 12,
   "metadata": {},
   "outputs": [],
   "source": [
    "# def init_x (population, data_size):\n",
    "#     return np.random.random((population,data_size))\n",
    "\n",
    "# def init_f (population, fmin,fmax):\n",
    "#     return  np.random.uniform(fmin,fmax,population)\n",
    "\n",
    "# def init_v (poulation):\n",
    "#     return np.zeros(population)\n",
    "\n",
    "# def init_y (solutions,data):\n",
    "#     #solutions : list of solution\n",
    "#     Y = np.zeros(len(solutions))\n",
    "#     for i,sol in enumerate(solutions) : \n",
    "#         Y[i] = fit(sol,data)\n",
    "#     return Y\n",
    "\n",
    "# def init_r (population):\n",
    "#     return np.random.random(population)\n",
    "\n",
    "# def init_A (population):\n",
    "#     # Aku lupa A itu apa\n",
    "#     return None"
   ]
  },
  {
   "cell_type": "code",
   "execution_count": 13,
   "metadata": {},
   "outputs": [],
   "source": [
    "class bat:\n",
    "    def __init__(self, population, data, max_w, fmin, fmax, A, alpha, gamma):\n",
    "        self.population = population\n",
    "        self.data = data\n",
    "        self.max_w = max_w\n",
    "        self.fmin = fmin\n",
    "        self.fmax = fmax\n",
    "        self.A = A\n",
    "        self.alpha = alpha\n",
    "        self.gamma = gamma\n",
    "        self.data_size = len(data)\n",
    "        self.best_sol = None\n",
    "        \n",
    "        self.init_x()\n",
    "        self.init_f()\n",
    "        self.init_v()\n",
    "        self.init_y()\n",
    "        self.init_r()\n",
    "                \n",
    "    def init_x (self):\n",
    "        self.solutions =  np.random.random((self.population,self.data_size))\n",
    "        \n",
    "    def init_f (self):\n",
    "        self.f = np.random.uniform(self.fmin,self.fmax,self.population)\n",
    "\n",
    "    def init_v (self):\n",
    "        self.v = np.zeros(self.population)\n",
    "\n",
    "    def init_y (self):\n",
    "        Y = np.zeros(len(self.solutions))\n",
    "        for i,sol in enumerate(self.solutions) : \n",
    "            Y[i] = fit(sol,self.data, self.max_w)\n",
    "        \n",
    "        self.Y = Y\n",
    "\n",
    "    def init_r (self):\n",
    "        self.r = np.random.random(self.population)\n",
    "        \n",
    "    \n",
    "    def update_f(self):\n",
    "        self.fmin = np.min(self.f)\n",
    "        self.fmax = np.max(self.f)\n",
    "        betha = np.random.random(len(self.f))\n",
    "        self.f = betha*(self.fmax-self.fmin) + self.fmin\n",
    "    \n",
    "    def update_v(self):\n",
    "        self.find_best_solution()\n",
    "\n",
    "        self.v = self.v + self.f * (self.solutions - self.best_sol)\n",
    "    \n",
    "    #__________________\n",
    "    def find_best_solution(self):\n",
    "        self.best_sol = self.solutions[np.argmax(self.Y)]"
   ]
  },
  {
   "cell_type": "code",
   "execution_count": 14,
   "metadata": {},
   "outputs": [],
   "source": [
    "baat = bat(10,data_x,data_w,fmin,fmax,A,alpha,gamma)"
   ]
  },
  {
   "cell_type": "code",
   "execution_count": 15,
   "metadata": {},
   "outputs": [],
   "source": [
    "# def train(bat, epoch):\n",
    "#     for i in range(epoch):\n",
    "#         #update kelelawar\n",
    "        "
   ]
  },
  {
   "cell_type": "markdown",
   "metadata": {},
   "source": [
    "# ini line coba"
   ]
  },
  {
   "cell_type": "code",
   "execution_count": 16,
   "metadata": {},
   "outputs": [
    {
     "data": {
      "text/plain": [
       "array([636., 415., 523., 646., 729., 844., 318., 695., 622., 524.])"
      ]
     },
     "execution_count": 16,
     "metadata": {},
     "output_type": "execute_result"
    }
   ],
   "source": [
    "baat.Y"
   ]
  },
  {
   "cell_type": "code",
   "execution_count": 17,
   "metadata": {},
   "outputs": [
    {
     "data": {
      "text/plain": [
       "5"
      ]
     },
     "execution_count": 17,
     "metadata": {},
     "output_type": "execute_result"
    }
   ],
   "source": [
    "np.argmax(baat.Y)"
   ]
  },
  {
   "cell_type": "code",
   "execution_count": 18,
   "metadata": {},
   "outputs": [],
   "source": [
    "baat.find_best_solution()"
   ]
  },
  {
   "cell_type": "code",
   "execution_count": 19,
   "metadata": {},
   "outputs": [
    {
     "data": {
      "text/plain": [
       "array([0.76491008, 0.62947458, 0.86878549, 0.83726367, 0.00393408,\n",
       "       0.55970329, 0.58472065, 0.76376327, 0.95907977, 0.57175306,\n",
       "       0.66044182, 0.85724254, 0.27986824, 0.25053502, 0.56722426,\n",
       "       0.12430153, 0.96450925, 0.6270931 , 0.4374662 , 0.71896433])"
      ]
     },
     "execution_count": 19,
     "metadata": {},
     "output_type": "execute_result"
    }
   ],
   "source": [
    "baat.best_sol"
   ]
  },
  {
   "cell_type": "code",
   "execution_count": 21,
   "metadata": {},
   "outputs": [
    {
     "data": {
      "text/plain": [
       "array([0.76491008, 0.62947458, 0.86878549, 0.83726367, 0.00393408,\n",
       "       0.55970329, 0.58472065, 0.76376327, 0.95907977, 0.57175306,\n",
       "       0.66044182, 0.85724254, 0.27986824, 0.25053502, 0.56722426,\n",
       "       0.12430153, 0.96450925, 0.6270931 , 0.4374662 , 0.71896433])"
      ]
     },
     "execution_count": 21,
     "metadata": {},
     "output_type": "execute_result"
    }
   ],
   "source": [
    "baat.find_best_solution()\n",
    "baat.best_sol"
   ]
  },
  {
   "cell_type": "code",
   "execution_count": 22,
   "metadata": {},
   "outputs": [
    {
     "data": {
      "text/plain": [
       "array([0., 0., 0., 0., 0., 0., 0., 0., 0., 0.])"
      ]
     },
     "execution_count": 22,
     "metadata": {},
     "output_type": "execute_result"
    }
   ],
   "source": [
    "baat.v"
   ]
  },
  {
   "cell_type": "code",
   "execution_count": 23,
   "metadata": {},
   "outputs": [
    {
     "ename": "ValueError",
     "evalue": "operands could not be broadcast together with shapes (10,) (10,20) ",
     "output_type": "error",
     "traceback": [
      "\u001b[1;31m---------------------------------------------------------------------------\u001b[0m",
      "\u001b[1;31mValueError\u001b[0m                                Traceback (most recent call last)",
      "\u001b[1;32m<ipython-input-23-76e73930540d>\u001b[0m in \u001b[0;36m<module>\u001b[1;34m()\u001b[0m\n\u001b[1;32m----> 1\u001b[1;33m \u001b[0mbaat\u001b[0m\u001b[1;33m.\u001b[0m\u001b[0mv\u001b[0m \u001b[1;33m+\u001b[0m \u001b[0mbaat\u001b[0m\u001b[1;33m.\u001b[0m\u001b[0mf\u001b[0m \u001b[1;33m*\u001b[0m \u001b[1;33m(\u001b[0m\u001b[0mbaat\u001b[0m\u001b[1;33m.\u001b[0m\u001b[0msolutions\u001b[0m \u001b[1;33m-\u001b[0m \u001b[0mbaat\u001b[0m\u001b[1;33m.\u001b[0m\u001b[0mbest_sol\u001b[0m\u001b[1;33m)\u001b[0m\u001b[1;33m\u001b[0m\u001b[0m\n\u001b[0m",
      "\u001b[1;31mValueError\u001b[0m: operands could not be broadcast together with shapes (10,) (10,20) "
     ]
    }
   ],
   "source": [
    "baat.v + (baat.f * (baat.solutions - baat.best_sol))"
   ]
  },
  {
   "cell_type": "code",
   "execution_count": 24,
   "metadata": {},
   "outputs": [
    {
     "data": {
      "text/plain": [
       "array([1., 1., 1., 1., 1., 1., 1., 1., 1., 1.])"
      ]
     },
     "execution_count": 24,
     "metadata": {},
     "output_type": "execute_result"
    }
   ],
   "source": [
    "baat.v + 1"
   ]
  },
  {
   "cell_type": "code",
   "execution_count": 25,
   "metadata": {},
   "outputs": [
    {
     "data": {
      "text/plain": [
       "array([[-0.24376635, -0.138716  , -0.42969738, -0.29394839,  0.12292392,\n",
       "         0.36104628, -0.51352   , -0.63319222, -0.34181968,  0.30713048,\n",
       "         0.24601974, -0.81440484,  0.49280885,  0.60762916,  0.03226096,\n",
       "         0.82272088, -0.26781903, -0.35529481, -0.21473772,  0.22836577],\n",
       "       [-0.14416837, -0.20540689, -0.35325951, -0.62217465,  0.02199252,\n",
       "        -0.22000711, -0.24969126, -0.31652188, -0.49789349, -0.55507039,\n",
       "        -0.17432414, -0.68952836,  0.01482615, -0.08240312, -0.48185379,\n",
       "         0.15761716, -0.43537593,  0.06564099,  0.18628599,  0.23697686],\n",
       "       [-0.0791834 , -0.40765963, -0.58834714, -0.02187937,  0.7720351 ,\n",
       "         0.05279792, -0.41048822, -0.10394666, -0.48464581,  0.16189007,\n",
       "        -0.55233568, -0.82633426, -0.25533639,  0.71201266, -0.38101012,\n",
       "         0.32317175, -0.12103848,  0.25368948,  0.55964412, -0.36625958],\n",
       "       [ 0.07763339, -0.13442928, -0.1595214 , -0.14920195,  0.51944976,\n",
       "        -0.48962162, -0.17774778, -0.13948789, -0.1502959 , -0.07287424,\n",
       "        -0.06499994, -0.34450636, -0.0515704 ,  0.35763455, -0.23556676,\n",
       "         0.54501517, -0.24357478,  0.17237643,  0.46718253, -0.6417822 ],\n",
       "       [-0.54364816,  0.07432303, -0.40978795, -0.2649555 ,  0.69086911,\n",
       "         0.22477375,  0.32231735,  0.02239656, -0.29661583,  0.2163535 ,\n",
       "         0.23201525, -0.59336217,  0.20994303,  0.48633675,  0.36996994,\n",
       "        -0.03916181, -0.53833122,  0.26271466,  0.30744097,  0.24664298],\n",
       "       [ 0.        ,  0.        ,  0.        ,  0.        ,  0.        ,\n",
       "         0.        ,  0.        ,  0.        ,  0.        ,  0.        ,\n",
       "         0.        ,  0.        ,  0.        ,  0.        ,  0.        ,\n",
       "         0.        ,  0.        ,  0.        ,  0.        ,  0.        ],\n",
       "       [-0.13456558, -0.21360483, -0.51650807, -0.55827   ,  0.69553209,\n",
       "        -0.3254631 , -0.28135283, -0.46199601, -0.18593015,  0.22675422,\n",
       "        -0.33757738, -0.7348613 ,  0.01287224,  0.54618822, -0.32908959,\n",
       "         0.19736367, -0.71478444, -0.14358673,  0.26667406, -0.60301615],\n",
       "       [ 0.16618642, -0.02548227,  0.06286376,  0.01501056,  0.54568133,\n",
       "        -0.4438708 , -0.27712831,  0.11768106, -0.82683957,  0.0905469 ,\n",
       "        -0.30250709, -0.12889319,  0.05309311,  0.49903254, -0.55231261,\n",
       "         0.697292  , -0.70540126, -0.29039818,  0.3442939 ,  0.13131195],\n",
       "       [ 0.22760087, -0.53179682, -0.49530902, -0.61948123,  0.48214146,\n",
       "        -0.21604719, -0.33541617,  0.11860705, -0.10354021,  0.40617878,\n",
       "         0.3015729 , -0.23928534,  0.3584868 ,  0.43718485, -0.33905987,\n",
       "         0.09304288, -0.86803646, -0.09993451,  0.39923966, -0.19775888],\n",
       "       [-0.49580357, -0.49471746, -0.25032002, -0.7593099 ,  0.73191619,\n",
       "        -0.02589307, -0.45575579,  0.20164411, -0.69828353,  0.19759718,\n",
       "         0.1321318 , -0.69313634, -0.13130284,  0.27661075,  0.21509036,\n",
       "         0.83275103, -0.72702975, -0.33402416,  0.42531201, -0.37751683]])"
      ]
     },
     "execution_count": 25,
     "metadata": {},
     "output_type": "execute_result"
    }
   ],
   "source": [
    "(baat.solutions - baat.best_sol)"
   ]
  },
  {
   "cell_type": "code",
   "execution_count": null,
   "metadata": {},
   "outputs": [],
   "source": []
  }
 ],
 "metadata": {
  "kernelspec": {
   "display_name": "Python 3",
   "language": "python",
   "name": "python3"
  },
  "language_info": {
   "codemirror_mode": {
    "name": "ipython",
    "version": 3
   },
   "file_extension": ".py",
   "mimetype": "text/x-python",
   "name": "python",
   "nbconvert_exporter": "python",
   "pygments_lexer": "ipython3",
   "version": "3.7.0"
  }
 },
 "nbformat": 4,
 "nbformat_minor": 2
}
