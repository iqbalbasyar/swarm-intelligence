{
 "cells": [
  {
   "cell_type": "code",
   "execution_count": 1,
   "metadata": {},
   "outputs": [],
   "source": [
    "import numpy as np"
   ]
  },
  {
   "cell_type": "markdown",
   "metadata": {},
   "source": [
    "# Data Preparation"
   ]
  },
  {
   "cell_type": "code",
   "execution_count": 2,
   "metadata": {},
   "outputs": [],
   "source": [
    "import data_module as dm\n",
    "DLS_X, DLS_Y, DLS_W, DLD_X, DLD_Y, DLD_W = dm.import_data()\n",
    "#DLS = data large scale, contains thousands of datapoints\n",
    "#DLD = data low dimension, contains less than or hundreds of datapoints"
   ]
  },
  {
   "cell_type": "code",
   "execution_count": 5,
   "metadata": {},
   "outputs": [],
   "source": [
    "#select DLD first, as we gonna try to build up the model (faster execution)\n",
    "data_w = DLD_W[0] #maximum weight\n",
    "data_x = DLD_X[0] #datapoints\n",
    "data_y = DLD_Y[0] #optimum values"
   ]
  },
  {
   "cell_type": "markdown",
   "metadata": {},
   "source": [
    "# Solution Representation\n",
    "The solution is represented as boolean mask of $N$ size, where $N$ is the size of data. 1 or True means the consecutive data is selected / carried away. 0 or False menas the consecutive data is not selected/carried away"
   ]
  },
  {
   "cell_type": "code",
   "execution_count": 6,
   "metadata": {},
   "outputs": [
    {
     "data": {
      "text/plain": [
       "array([0.65583598, 0.36402171, 0.44626857, 0.50834443, 0.72500097,\n",
       "       0.48874843, 0.88379197, 0.53593852, 0.91033789, 0.72171027,\n",
       "       0.88801462, 0.49442212, 0.83605386, 0.20270591, 0.35578623,\n",
       "       0.60825896, 0.16294387, 0.63119527, 0.87439084, 0.04075064])"
      ]
     },
     "execution_count": 6,
     "metadata": {},
     "output_type": "execute_result"
    }
   ],
   "source": [
    "sol = np.random.random(len(data_x))\n",
    "sol"
   ]
  },
  {
   "cell_type": "code",
   "execution_count": 7,
   "metadata": {},
   "outputs": [
    {
     "data": {
      "text/plain": [
       "array([1., 0., 0., 1., 1., 0., 1., 1., 1., 1., 1., 0., 1., 0., 0., 1., 0.,\n",
       "       1., 1., 0.])"
      ]
     },
     "execution_count": 7,
     "metadata": {},
     "output_type": "execute_result"
    }
   ],
   "source": [
    "#after discretizatoin\n",
    "np.round(sol)"
   ]
  },
  {
   "cell_type": "code",
   "execution_count": 8,
   "metadata": {},
   "outputs": [
    {
     "data": {
      "text/html": [
       "<div>\n",
       "<style scoped>\n",
       "    .dataframe tbody tr th:only-of-type {\n",
       "        vertical-align: middle;\n",
       "    }\n",
       "\n",
       "    .dataframe tbody tr th {\n",
       "        vertical-align: top;\n",
       "    }\n",
       "\n",
       "    .dataframe thead th {\n",
       "        text-align: right;\n",
       "    }\n",
       "</style>\n",
       "<table border=\"1\" class=\"dataframe\">\n",
       "  <thead>\n",
       "    <tr style=\"text-align: right;\">\n",
       "      <th></th>\n",
       "      <th>weight</th>\n",
       "      <th>price</th>\n",
       "    </tr>\n",
       "  </thead>\n",
       "  <tbody>\n",
       "    <tr>\n",
       "      <th>1</th>\n",
       "      <td>91</td>\n",
       "      <td>84</td>\n",
       "    </tr>\n",
       "    <tr>\n",
       "      <th>4</th>\n",
       "      <td>46</td>\n",
       "      <td>4</td>\n",
       "    </tr>\n",
       "    <tr>\n",
       "      <th>5</th>\n",
       "      <td>55</td>\n",
       "      <td>44</td>\n",
       "    </tr>\n",
       "    <tr>\n",
       "      <th>7</th>\n",
       "      <td>35</td>\n",
       "      <td>82</td>\n",
       "    </tr>\n",
       "    <tr>\n",
       "      <th>8</th>\n",
       "      <td>75</td>\n",
       "      <td>92</td>\n",
       "    </tr>\n",
       "    <tr>\n",
       "      <th>9</th>\n",
       "      <td>61</td>\n",
       "      <td>25</td>\n",
       "    </tr>\n",
       "    <tr>\n",
       "      <th>10</th>\n",
       "      <td>15</td>\n",
       "      <td>83</td>\n",
       "    </tr>\n",
       "    <tr>\n",
       "      <th>11</th>\n",
       "      <td>77</td>\n",
       "      <td>56</td>\n",
       "    </tr>\n",
       "    <tr>\n",
       "      <th>13</th>\n",
       "      <td>63</td>\n",
       "      <td>58</td>\n",
       "    </tr>\n",
       "    <tr>\n",
       "      <th>16</th>\n",
       "      <td>75</td>\n",
       "      <td>70</td>\n",
       "    </tr>\n",
       "    <tr>\n",
       "      <th>18</th>\n",
       "      <td>78</td>\n",
       "      <td>32</td>\n",
       "    </tr>\n",
       "    <tr>\n",
       "      <th>19</th>\n",
       "      <td>40</td>\n",
       "      <td>68</td>\n",
       "    </tr>\n",
       "  </tbody>\n",
       "</table>\n",
       "</div>"
      ],
      "text/plain": [
       "    weight  price\n",
       "1       91     84\n",
       "4       46      4\n",
       "5       55     44\n",
       "7       35     82\n",
       "8       75     92\n",
       "9       61     25\n",
       "10      15     83\n",
       "11      77     56\n",
       "13      63     58\n",
       "16      75     70\n",
       "18      78     32\n",
       "19      40     68"
      ]
     },
     "execution_count": 8,
     "metadata": {},
     "output_type": "execute_result"
    }
   ],
   "source": [
    "idx = np.arange(len(data_x))\n",
    "idx = idx[np.round(sol).astype(bool)]\n",
    "carried = data_x.iloc[idx]\n",
    "carried"
   ]
  },
  {
   "cell_type": "markdown",
   "metadata": {},
   "source": [
    "# Fitness Function"
   ]
  },
  {
   "cell_type": "code",
   "execution_count": 11,
   "metadata": {},
   "outputs": [],
   "source": [
    "def fit(sol, data, max_w) :\n",
    "    #Discretization\n",
    "    mask = np.round(sol).astype(bool)\n",
    "    \n",
    "    #decode\n",
    "    idx = np.arange(len(data))\n",
    "    idx = idx[mask]\n",
    "    data_solution = data.iloc[idx]\n",
    "    \n",
    "    #price \n",
    "    price = np.sum(data_solution['price'])\n",
    "    weight = np.sum(data_solution['weight'])\n",
    "    if weight <= max_w:\n",
    "        return price\n",
    "    else :\n",
    "        return 0"
   ]
  },
  {
   "cell_type": "markdown",
   "metadata": {},
   "source": []
  },
  {
   "cell_type": "code",
   "execution_count": 21,
   "metadata": {},
   "outputs": [],
   "source": [
    "# Hyper parameters \n",
    "fmin = 0\n",
    "fmax = 1\n",
    "A = 1\n",
    "alpha = 0.98\n",
    "gamma = 0.98\n",
    "population = 20"
   ]
  },
  {
   "cell_type": "code",
   "execution_count": 13,
   "metadata": {},
   "outputs": [],
   "source": [
    "# def init_x (population, data_size):\n",
    "#     return np.random.random((population,data_size))\n",
    "\n",
    "# def init_f (population, fmin,fmax):\n",
    "#     return  np.random.uniform(fmin,fmax,population)\n",
    "\n",
    "# def init_v (poulation):\n",
    "#     return np.zeros(population)\n",
    "\n",
    "# def init_y (solutions,data):\n",
    "#     #solutions : list of solution\n",
    "#     Y = np.zeros(len(solutions))\n",
    "#     for i,sol in enumerate(solutions) : \n",
    "#         Y[i] = fit(sol,data)\n",
    "#     return Y\n",
    "\n",
    "# def init_r (population):\n",
    "#     return np.random.random(population)\n",
    "\n",
    "# def init_A (population):\n",
    "#     # Aku lupa A itu apa\n",
    "#     return None"
   ]
  },
  {
   "cell_type": "code",
   "execution_count": 22,
   "metadata": {},
   "outputs": [],
   "source": [
    "class bat:\n",
    "    def __init__(self, population, data, max_w, fmin, fmax, A, alpha, gamma):\n",
    "        self.population = population\n",
    "        self.data = data\n",
    "        self.max_w = max_w\n",
    "        self.fmin = fmin\n",
    "        self.fmax = fmax\n",
    "        self.A = A\n",
    "        self.alpha = alpha\n",
    "        self.gamma = gamma\n",
    "        self.data_size = len(data)\n",
    "                \n",
    "    def init_x (self):\n",
    "        self.solutions =  np.random.random((self.population,self.data_size))\n",
    "        \n",
    "\n",
    "    def init_f (self):\n",
    "        return  np.random.uniform(self.fmin,self.fmax,self.population)\n",
    "\n",
    "    def init_v (self):\n",
    "        return np.zeros(self.population)\n",
    "\n",
    "    def init_y (self):\n",
    "        \n",
    "        Y = np.zeros(len(self.solutions))\n",
    "        for i,sol in enumerate(self.solutions) : \n",
    "            Y[i] = fit(sol,self.data, self.max_w)\n",
    "        \n",
    "        self.Y = Y\n",
    "\n",
    "    def init_r (self):\n",
    "        self.r = np.random.random(self.population)\n",
    "\n",
    "#     def init_A (self):\n",
    "#         self.A_ = "
   ]
  },
  {
   "cell_type": "code",
   "execution_count": 23,
   "metadata": {},
   "outputs": [],
   "source": [
    "baat = bat(10,data_x,data_w,fmin,fmax,A,alpha,gamma)\n",
    "baat.init_x()\n",
    "baat.init_f()\n",
    "baat.init_v()\n",
    "baat.init_y()\n",
    "baat.init_r()"
   ]
  },
  {
   "cell_type": "code",
   "execution_count": 27,
   "metadata": {},
   "outputs": [
    {
     "data": {
      "text/plain": [
       "20"
      ]
     },
     "execution_count": 27,
     "metadata": {},
     "output_type": "execute_result"
    }
   ],
   "source": [
    "len(baat.solutions[0])"
   ]
  },
  {
   "cell_type": "code",
   "execution_count": null,
   "metadata": {},
   "outputs": [],
   "source": []
  }
 ],
 "metadata": {
  "kernelspec": {
   "display_name": "Python 3",
   "language": "python",
   "name": "python3"
  },
  "language_info": {
   "codemirror_mode": {
    "name": "ipython",
    "version": 3
   },
   "file_extension": ".py",
   "mimetype": "text/x-python",
   "name": "python",
   "nbconvert_exporter": "python",
   "pygments_lexer": "ipython3",
   "version": "3.7.0"
  }
 },
 "nbformat": 4,
 "nbformat_minor": 2
}
