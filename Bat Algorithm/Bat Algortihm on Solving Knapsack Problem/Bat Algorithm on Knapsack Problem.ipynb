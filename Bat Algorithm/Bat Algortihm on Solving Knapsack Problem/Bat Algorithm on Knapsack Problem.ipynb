{
 "cells": [
  {
   "cell_type": "code",
   "execution_count": 244,
   "metadata": {},
   "outputs": [],
   "source": [
    "import numpy as np"
   ]
  },
  {
   "cell_type": "markdown",
   "metadata": {},
   "source": [
    "# Data Preparation"
   ]
  },
  {
   "cell_type": "code",
   "execution_count": 245,
   "metadata": {},
   "outputs": [],
   "source": [
    "import data_module as dm\n",
    "DLS_X, DLS_Y, DLS_W, DLD_X, DLD_Y, DLD_W = dm.import_data()\n",
    "#DLS = data large scale, contains thousands of datapoints\n",
    "#DLD = data low dimension, contains less than or hundreds of datapoints"
   ]
  },
  {
   "cell_type": "code",
   "execution_count": 246,
   "metadata": {},
   "outputs": [],
   "source": [
    "#select DLD first, as we gonna try to build up the model (faster execution)\n",
    "data_w = DLD_W[0] #maximum weight\n",
    "data_x = DLD_X[0] #datapoints\n",
    "data_y = DLD_Y[0] #optimum values"
   ]
  },
  {
   "cell_type": "markdown",
   "metadata": {},
   "source": [
    "# Solution Representation\n",
    "The solution is represented as boolean mask of $N$ size, where $N$ is the size of data. 1 or True means the consecutive data is selected / carried away. 0 or False menas the consecutive data is not selected/carried away"
   ]
  },
  {
   "cell_type": "code",
   "execution_count": 247,
   "metadata": {},
   "outputs": [
    {
     "data": {
      "text/plain": [
       "array([0.66034874, 0.81262188, 0.04746956, 0.41779886, 0.53919715,\n",
       "       0.89099243, 0.00790281, 0.73950358, 0.90614587, 0.30544302,\n",
       "       0.30216863, 0.63991534, 0.81000629, 0.95740499, 0.93100146,\n",
       "       0.52967848, 0.13613991, 0.00982023, 0.92490313, 0.24734359])"
      ]
     },
     "execution_count": 247,
     "metadata": {},
     "output_type": "execute_result"
    }
   ],
   "source": [
    "sol = np.random.random(len(data_x))\n",
    "sol"
   ]
  },
  {
   "cell_type": "code",
   "execution_count": 248,
   "metadata": {},
   "outputs": [
    {
     "data": {
      "text/plain": [
       "array([ True,  True, False, False,  True,  True, False,  True,  True,\n",
       "       False, False,  True,  True,  True,  True,  True, False, False,\n",
       "        True, False])"
      ]
     },
     "execution_count": 248,
     "metadata": {},
     "output_type": "execute_result"
    }
   ],
   "source": [
    "#after discretizatoin\n",
    "np.round(sol).astype(bool)"
   ]
  },
  {
   "cell_type": "code",
   "execution_count": 249,
   "metadata": {
    "scrolled": true
   },
   "outputs": [
    {
     "data": {
      "text/html": [
       "<div>\n",
       "<style scoped>\n",
       "    .dataframe tbody tr th:only-of-type {\n",
       "        vertical-align: middle;\n",
       "    }\n",
       "\n",
       "    .dataframe tbody tr th {\n",
       "        vertical-align: top;\n",
       "    }\n",
       "\n",
       "    .dataframe thead th {\n",
       "        text-align: right;\n",
       "    }\n",
       "</style>\n",
       "<table border=\"1\" class=\"dataframe\">\n",
       "  <thead>\n",
       "    <tr style=\"text-align: right;\">\n",
       "      <th></th>\n",
       "      <th>weight</th>\n",
       "      <th>price</th>\n",
       "    </tr>\n",
       "  </thead>\n",
       "  <tbody>\n",
       "    <tr>\n",
       "      <th>1</th>\n",
       "      <td>91</td>\n",
       "      <td>84</td>\n",
       "    </tr>\n",
       "    <tr>\n",
       "      <th>2</th>\n",
       "      <td>72</td>\n",
       "      <td>83</td>\n",
       "    </tr>\n",
       "    <tr>\n",
       "      <th>5</th>\n",
       "      <td>55</td>\n",
       "      <td>44</td>\n",
       "    </tr>\n",
       "    <tr>\n",
       "      <th>6</th>\n",
       "      <td>8</td>\n",
       "      <td>6</td>\n",
       "    </tr>\n",
       "    <tr>\n",
       "      <th>8</th>\n",
       "      <td>75</td>\n",
       "      <td>92</td>\n",
       "    </tr>\n",
       "    <tr>\n",
       "      <th>9</th>\n",
       "      <td>61</td>\n",
       "      <td>25</td>\n",
       "    </tr>\n",
       "    <tr>\n",
       "      <th>12</th>\n",
       "      <td>40</td>\n",
       "      <td>18</td>\n",
       "    </tr>\n",
       "    <tr>\n",
       "      <th>13</th>\n",
       "      <td>63</td>\n",
       "      <td>58</td>\n",
       "    </tr>\n",
       "    <tr>\n",
       "      <th>14</th>\n",
       "      <td>75</td>\n",
       "      <td>14</td>\n",
       "    </tr>\n",
       "    <tr>\n",
       "      <th>15</th>\n",
       "      <td>29</td>\n",
       "      <td>48</td>\n",
       "    </tr>\n",
       "    <tr>\n",
       "      <th>16</th>\n",
       "      <td>75</td>\n",
       "      <td>70</td>\n",
       "    </tr>\n",
       "    <tr>\n",
       "      <th>19</th>\n",
       "      <td>40</td>\n",
       "      <td>68</td>\n",
       "    </tr>\n",
       "  </tbody>\n",
       "</table>\n",
       "</div>"
      ],
      "text/plain": [
       "    weight  price\n",
       "1       91     84\n",
       "2       72     83\n",
       "5       55     44\n",
       "6        8      6\n",
       "8       75     92\n",
       "9       61     25\n",
       "12      40     18\n",
       "13      63     58\n",
       "14      75     14\n",
       "15      29     48\n",
       "16      75     70\n",
       "19      40     68"
      ]
     },
     "execution_count": 249,
     "metadata": {},
     "output_type": "execute_result"
    }
   ],
   "source": [
    "idx = np.arange(len(data_x))\n",
    "idx = idx[np.round(sol).astype(bool)]\n",
    "carried = data_x.iloc[idx]\n",
    "carried"
   ]
  },
  {
   "cell_type": "markdown",
   "metadata": {},
   "source": [
    "# Fitness Function"
   ]
  },
  {
   "cell_type": "code",
   "execution_count": 658,
   "metadata": {},
   "outputs": [],
   "source": [
    "def fit(sol, data, max_w) :\n",
    "    #Discretization\n",
    "    mask = np.round(sol).astype(bool)\n",
    "    \n",
    "    #decode\n",
    "    idx = np.arange(len(data))\n",
    "    idx = idx[mask]\n",
    "    data_solution = data.iloc[idx]\n",
    "    \n",
    "    #price \n",
    "    price = np.sum(data_solution['price'])\n",
    "    weight = np.sum(data_solution['weight'])\n",
    "    if weight <= max_w:\n",
    "        return price\n",
    "    else :\n",
    "        return 0"
   ]
  },
  {
   "cell_type": "code",
   "execution_count": 938,
   "metadata": {},
   "outputs": [],
   "source": [
    "class bat:\n",
    "    def __init__(self, population, data, max_w, fmin, fmax, A, alpha, gamma):\n",
    "        self.population = population\n",
    "        self.data = data\n",
    "        self.max_w = max_w\n",
    "        self.fmin = fmin\n",
    "        self.fmax = fmax\n",
    "        self.A = A\n",
    "        self.alpha = alpha\n",
    "        self.gamma = gamma\n",
    "        self.data_size = len(data)\n",
    "        self.best_sol = None\n",
    "        self.t = 1 #iteration \n",
    "        \n",
    "        self.init_x()\n",
    "        self.init_f()\n",
    "        self.init_v()\n",
    "        self.init_y()\n",
    "        self.init_r()\n",
    "                \n",
    "    def init_x (self):\n",
    "        self.solutions =  np.random.random((self.population,self.data_size))\n",
    "        \n",
    "    def init_f (self):\n",
    "        self.f = np.random.uniform(self.fmin,self.fmax,self.population)\n",
    "\n",
    "    def init_v (self):\n",
    "        self.v = np.zeros((self.population, self.data_size))\n",
    "\n",
    "    def init_y (self):\n",
    "        Y = np.zeros(len(self.solutions))\n",
    "        for i,sol in enumerate(self.solutions) : \n",
    "            Y[i] = fit(sol,self.data, self.max_w)\n",
    "        \n",
    "        self.Y = Y\n",
    "\n",
    "    def init_r (self):\n",
    "        self.r = np.random.random(self.population)\n",
    "        self.r0 = self.r\n",
    "        \n",
    "    \n",
    "    def update_f(self):\n",
    "        self.fmin = np.min(self.f)\n",
    "        self.fmax = np.max(self.f)\n",
    "        betha = np.random.random(len(self.f))\n",
    "        self.f = betha*(self.fmax-self.fmin) + self.fmin\n",
    "    \n",
    "    def update_v(self):\n",
    "        self.find_best_solution()\n",
    "        r = (self.solutions - self.best_sol)\n",
    "        rr = [r[i] * self.f[i] for i in range(len(r))] # perkalian r dengan f\n",
    "        \n",
    "        self.v = self.v + rr\n",
    "        self.normalize_v()\n",
    "    \n",
    "    def update_x(self):\n",
    "        self.solutions += self.v\n",
    "        self.normalize_solution()\n",
    "        self.update_y()\n",
    "        self.localsearch()\n",
    "        self.update_y\n",
    "        self.find_best_solution()\n",
    "        \n",
    "    def update_A(self):\n",
    "        self.A = self.A * self.alpha\n",
    "    \n",
    "    def update_r(self):\n",
    "        self.r = self.r0 * (1- np.exp(-self.gamma*self.t))\n",
    "        self.t += 1\n",
    "    \n",
    "    def update_y(self):\n",
    "        Y = np.zeros(len(self.solutions))\n",
    "        for i,sol in enumerate(self.solutions) : \n",
    "            Y[i] = fit(sol,self.data, self.max_w)\n",
    "        self.Y = Y\n",
    "\n",
    "    #__________________\n",
    "    def find_best_solution(self):\n",
    "        self.best_sol = self.solutions[np.argmax(self.Y)]\n",
    "        \n",
    "    def normalize_solution(self):\n",
    "#         self.solutions = np.absolute(self.solutions / (np.max(self.solutions) - np.min(self.solutions)))\n",
    "        self.solutions[self.solutions > 1] = 1\n",
    "        self.solutions[self.solutions < 0] = 0\n",
    "        \n",
    "    def normalize_v(self):\n",
    "        self.v = np.sin(self.v)\n",
    "            \n",
    "    def extract_solution(self):\n",
    "        #Discretization\n",
    "        mask = np.round(self.best_sol).astype(bool)\n",
    "\n",
    "        #decode\n",
    "        idx = np.arange(len(self.data))\n",
    "        idx = idx[mask]\n",
    "        data_solution = self.data.iloc[idx]\n",
    "\n",
    "        return data_solution\n",
    "        \n",
    "    def mutate(x):\n",
    "        size = len(x)\n",
    "        sizex = size//5\n",
    "        idx = np.random.permutation(size)[:sizex]\n",
    "\n",
    "        x[idx] = 1-x[idx]\n",
    "\n",
    "        return x\n",
    "    \n",
    "    def localsearch(self):\n",
    "        idxm = np.where(self.Y == 0)\n",
    "        cm = self.solutions[ idxm ]\n",
    "        for i in range(len(cm)): \n",
    "            cm[i] = mutate(cm[i])\n",
    "        \n",
    "        self.solutions[idxm] = cm\n",
    "        "
   ]
  },
  {
   "cell_type": "code",
   "execution_count": 999,
   "metadata": {},
   "outputs": [],
   "source": [
    "# Hyper parameters \n",
    "fmin = 0\n",
    "fmax = 1\n",
    "A = 1\n",
    "alpha = 0.98\n",
    "gamma = 0.98\n",
    "population = 100\n",
    "epoch = 50"
   ]
  },
  {
   "cell_type": "code",
   "execution_count": 1000,
   "metadata": {},
   "outputs": [],
   "source": [
    "#select DLD first, as we gonna try to build up the model (faster execution)\n",
    "data_w = DLS_W[4] #maximum weight\n",
    "data_x = DLS_X[4] #datapoints\n",
    "data_y = DLS_Y[4] #optimum values\n",
    "\n",
    "data_w = DLD_W[8] #maximum weight\n",
    "data_x = DLD_X[8] #datapoints\n",
    "data_y = DLD_Y[8] #optimum values\n",
    "\n",
    "# data_w = 1000000"
   ]
  },
  {
   "cell_type": "code",
   "execution_count": 1001,
   "metadata": {
    "scrolled": true
   },
   "outputs": [
    {
     "data": {
      "text/plain": [
       "23"
      ]
     },
     "execution_count": 1001,
     "metadata": {},
     "output_type": "execute_result"
    }
   ],
   "source": [
    "len(data_x)"
   ]
  },
  {
   "cell_type": "code",
   "execution_count": 1002,
   "metadata": {},
   "outputs": [],
   "source": [
    "baat = bat(population,data_x,data_w,fmin,fmax,A,alpha,gamma)"
   ]
  },
  {
   "cell_type": "markdown",
   "metadata": {},
   "source": [
    "# ini line coba"
   ]
  },
  {
   "cell_type": "code",
   "execution_count": 1003,
   "metadata": {},
   "outputs": [],
   "source": [
    "for i in range(epoch):\n",
    "    baat.update_f()\n",
    "    baat.update_v()\n",
    "    baat.update_x()    \n",
    "    baat.update_r()"
   ]
  },
  {
   "cell_type": "code",
   "execution_count": 1004,
   "metadata": {},
   "outputs": [
    {
     "data": {
      "text/plain": [
       "9737.0"
      ]
     },
     "execution_count": 1004,
     "metadata": {},
     "output_type": "execute_result"
    }
   ],
   "source": [
    "np.max(baat.Y)"
   ]
  },
  {
   "cell_type": "code",
   "execution_count": 1005,
   "metadata": {},
   "outputs": [
    {
     "data": {
      "text/plain": [
       "9767"
      ]
     },
     "execution_count": 1005,
     "metadata": {},
     "output_type": "execute_result"
    }
   ],
   "source": [
    "data_y"
   ]
  },
  {
   "cell_type": "code",
   "execution_count": 1006,
   "metadata": {},
   "outputs": [
    {
     "data": {
      "text/plain": [
       "10000"
      ]
     },
     "execution_count": 1006,
     "metadata": {},
     "output_type": "execute_result"
    }
   ],
   "source": [
    "baat.max_w"
   ]
  },
  {
   "cell_type": "code",
   "execution_count": null,
   "metadata": {},
   "outputs": [],
   "source": []
  },
  {
   "cell_type": "code",
   "execution_count": null,
   "metadata": {},
   "outputs": [],
   "source": []
  }
 ],
 "metadata": {
  "kernelspec": {
   "display_name": "Python 3",
   "language": "python",
   "name": "python3"
  },
  "language_info": {
   "codemirror_mode": {
    "name": "ipython",
    "version": 3
   },
   "file_extension": ".py",
   "mimetype": "text/x-python",
   "name": "python",
   "nbconvert_exporter": "python",
   "pygments_lexer": "ipython3",
   "version": "3.7.0"
  }
 },
 "nbformat": 4,
 "nbformat_minor": 2
}
